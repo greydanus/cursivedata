{
 "cells": [
  {
   "cell_type": "code",
   "execution_count": 5,
   "id": "b4a8647c-1fb5-4dd9-bb71-2c6182c03c44",
   "metadata": {},
   "outputs": [
    {
     "name": "stdout",
     "output_type": "stream",
     "text": [
      "JSON error at approximately character 200002: Expecting ',' delimiter\n"
     ]
    }
   ],
   "source": [
    "import json\n",
    "\n",
    "def find_json_error(filename, chunk_size=100000):\n",
    "    with open(filename, 'r') as file:\n",
    "        bracket_stack = []\n",
    "        char_count = 0\n",
    "        chunk = file.read(chunk_size)\n",
    "        \n",
    "        while chunk:\n",
    "            for char in chunk:\n",
    "                char_count += 1\n",
    "                if char in '[{':\n",
    "                    bracket_stack.append((char, char_count))\n",
    "                elif char in ']}':\n",
    "                    if not bracket_stack:\n",
    "                        return f\"Unexpected closing bracket {char} at position {char_count}\"\n",
    "                    opening, _ = bracket_stack.pop()\n",
    "                    if (opening == '[' and char != ']') or (opening == '{' and char != '}'):\n",
    "                        return f\"Mismatched brackets: {opening} and {char} at position {char_count}\"\n",
    "            \n",
    "            try:\n",
    "                # Try to parse the chunk as JSON\n",
    "                json.loads('[' + chunk + ']')\n",
    "            except json.JSONDecodeError as e:\n",
    "                # If there's an error, return its position\n",
    "                return f\"JSON error at approximately character {char_count + e.pos}: {e.msg}\"\n",
    "            \n",
    "            chunk = file.read(chunk_size)\n",
    "    \n",
    "    if bracket_stack:\n",
    "        # If we have unclosed brackets at the end\n",
    "        char, pos = bracket_stack[-1]\n",
    "        return f\"Unclosed bracket {char} from position {pos}\"\n",
    "    \n",
    "    return \"No JSON errors found\"\n",
    "\n",
    "# Usage\n",
    "filename = '1197-bigbank-print.json'\n",
    "result = find_json_error(filename)\n",
    "print(result)"
   ]
  },
  {
   "cell_type": "code",
   "execution_count": null,
   "id": "b1e91585-4122-4b96-aa8e-b9173f3101b6",
   "metadata": {},
   "outputs": [],
   "source": []
  }
 ],
 "metadata": {
  "kernelspec": {
   "display_name": "Python 3 (ipykernel)",
   "language": "python",
   "name": "python3"
  },
  "language_info": {
   "codemirror_mode": {
    "name": "ipython",
    "version": 3
   },
   "file_extension": ".py",
   "mimetype": "text/x-python",
   "name": "python",
   "nbconvert_exporter": "python",
   "pygments_lexer": "ipython3",
   "version": "3.12.4"
  }
 },
 "nbformat": 4,
 "nbformat_minor": 5
}
